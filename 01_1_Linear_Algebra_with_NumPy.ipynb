{
  "nbformat": 4,
  "nbformat_minor": 0,
  "metadata": {
    "kernelspec": {
      "display_name": "Python 3",
      "language": "python",
      "name": "python3"
    },
    "language_info": {
      "codemirror_mode": {
        "name": "ipython",
        "version": 3
      },
      "file_extension": ".py",
      "mimetype": "text/x-python",
      "name": "python",
      "nbconvert_exporter": "python",
      "pygments_lexer": "ipython3",
      "version": "3.8.3"
    },
    "colab": {
      "name": "01-1_Linear Algebra with NumPy.ipynb",
      "provenance": [],
      "include_colab_link": true
    }
  },
  "cells": [
    {
      "cell_type": "markdown",
      "metadata": {
        "id": "view-in-github",
        "colab_type": "text"
      },
      "source": [
        "<a href=\"https://colab.research.google.com/github/aimancreator/phytonaiman/blob/main/01_1_Linear_Algebra_with_NumPy.ipynb\" target=\"_parent\"><img src=\"https://colab.research.google.com/assets/colab-badge.svg\" alt=\"Open In Colab\"/></a>"
      ]
    },
    {
      "cell_type": "code",
      "metadata": {
        "deletable": false,
        "editable": false,
        "id": "uC_bN89UZNGz"
      },
      "source": [
        "# Copyright (c) 2019 Skymind AI Bhd.\n",
        "# Copyright (c) 2020 CertifAI Sdn. Bhd.\n",
        "#\n",
        "# This program and the accompanying materials are made available under the\n",
        "# terms of the Apache License, Version 2.0 which is available at\n",
        "# https://www.apache.org/licenses/LICENSE-2.0.\n",
        "# Unless required by applicable law or agreed to in writing, software\n",
        "# distributed under the License is distributed on an \"AS IS\" BASIS, WITHOUT\n",
        "# WARRANTIES OR CONDITIONS OF ANY KIND, either express or implied. See the\n",
        "# License for the specific language governing permissions and limitations\n",
        "# under the License.\n",
        "#\n",
        "# SPDX-License-Identifier: Apache-2.0"
      ],
      "execution_count": null,
      "outputs": []
    },
    {
      "cell_type": "markdown",
      "metadata": {
        "id": "FmvqaeL1ZNG_"
      },
      "source": [
        "# Linear Algebra with NumPy\n",
        "\n",
        "We'll be using the numerical computing library NumPy, as well as the scientific and technical computing library SciPy. "
      ]
    },
    {
      "cell_type": "code",
      "metadata": {
        "id": "O4KFAnpIZNHA"
      },
      "source": [
        "import numpy as np \n",
        "import scipy.linalg as la"
      ],
      "execution_count": null,
      "outputs": []
    },
    {
      "cell_type": "markdown",
      "metadata": {
        "id": "y743GZDjZNHB"
      },
      "source": [
        "## Operations \n",
        "### Matrix transposition \n",
        "\n",
        "The transposed matrix A is denoted $A^{T}$."
      ]
    },
    {
      "cell_type": "code",
      "metadata": {
        "colab": {
          "base_uri": "https://localhost:8080/"
        },
        "id": "8gTxcih_ZNHB",
        "outputId": "a0292987-66ff-4b38-f0bb-bad8dfb7ea0e"
      },
      "source": [
        "A = np.array([[1, 2], [3, 4]])\n",
        "A.T "
      ],
      "execution_count": null,
      "outputs": [
        {
          "output_type": "execute_result",
          "data": {
            "text/plain": [
              "array([[1, 3],\n",
              "       [2, 4]])"
            ]
          },
          "metadata": {
            "tags": []
          },
          "execution_count": 11
        }
      ]
    },
    {
      "cell_type": "markdown",
      "metadata": {
        "id": "RE9jzpMgZNHD"
      },
      "source": [
        "### Element-wise product\n",
        "The element-wise product of A and B is denoted $AB$. It multiplies the values of two matrices element-wise."
      ]
    },
    {
      "cell_type": "code",
      "metadata": {
        "colab": {
          "base_uri": "https://localhost:8080/"
        },
        "id": "uDVK5WjoZNHE",
        "outputId": "9e15b706-b544-4cfd-92af-434db40b8c4f"
      },
      "source": [
        "B = np.array([[5, 6], [7, 8]])\n",
        "# in the previous notebook, we used np.matmul(A, B)\n",
        "# we can also use Python's multiplication operator\n",
        "print(A * B)\n",
        "np.matmul(A,B)"
      ],
      "execution_count": null,
      "outputs": [
        {
          "output_type": "stream",
          "text": [
            "[[  5  30]\n",
            " [-14 -56]]\n"
          ],
          "name": "stdout"
        },
        {
          "output_type": "execute_result",
          "data": {
            "text/plain": [
              "array([[ 40,  46],\n",
              "       [-59, -68]])"
            ]
          },
          "metadata": {
            "tags": []
          },
          "execution_count": 26
        }
      ]
    },
    {
      "cell_type": "markdown",
      "metadata": {
        "id": "W3LcMNjJZNHE"
      },
      "source": [
        "### Matrix product \n",
        "\n",
        "The matrix product operator is `@`. The inner product of A and B is denoted $AB^{T}$. "
      ]
    },
    {
      "cell_type": "code",
      "metadata": {
        "colab": {
          "base_uri": "https://localhost:8080/"
        },
        "id": "wQ89mYCTZNHE",
        "outputId": "798d1452-eb02-4247-b796-3cc28acfdf5a"
      },
      "source": [
        "# in the previous notebook, we used np.multiply(A, B) \n",
        "# in this notebook we'll use the `@` operator provided by NumPy \n",
        "A * B.T"
      ],
      "execution_count": null,
      "outputs": [
        {
          "output_type": "execute_result",
          "data": {
            "text/plain": [
              "array([[ 7, 35],\n",
              "       [10, 35]])"
            ]
          },
          "metadata": {
            "tags": []
          },
          "execution_count": 32
        }
      ]
    },
    {
      "cell_type": "markdown",
      "metadata": {
        "id": "lQiyaos_ZNHF"
      },
      "source": [
        "### Matrix inversion \n",
        "\n",
        "Recall the definition of an inverse matrix: \n",
        "\n",
        "$$ AA^{-1} = A^{-1}A = I$$\n",
        "\n",
        "Use `scipy.linalg` to find the inverse programmatically:"
      ]
    },
    {
      "cell_type": "code",
      "metadata": {
        "colab": {
          "base_uri": "https://localhost:8080/"
        },
        "id": "rEvDa7vwZNHF",
        "outputId": "a1268daa-554f-4f1e-d101-18763d173f11"
      },
      "source": [
        "A_inv = la.inv(A)\n",
        "print(A_inv)"
      ],
      "execution_count": null,
      "outputs": [
        {
          "output_type": "stream",
          "text": [
            "[[-2.33333333 -1.66666667]\n",
            " [ 0.66666667  0.33333333]]\n"
          ],
          "name": "stdout"
        }
      ]
    },
    {
      "cell_type": "code",
      "metadata": {
        "colab": {
          "base_uri": "https://localhost:8080/"
        },
        "id": "2ibtogWcZNHG",
        "outputId": "91f21e23-9087-4a7a-a11d-63f5a308fc20"
      },
      "source": [
        "A @ A_inv"
      ],
      "execution_count": null,
      "outputs": [
        {
          "output_type": "execute_result",
          "data": {
            "text/plain": [
              "array([[ 1.00000000e+00,  5.55111512e-17],\n",
              "       [-3.33066907e-16,  1.00000000e+00]])"
            ]
          },
          "metadata": {
            "tags": []
          },
          "execution_count": 22
        }
      ]
    },
    {
      "cell_type": "markdown",
      "metadata": {
        "id": "nfT4VoT2ZNHG"
      },
      "source": [
        "which is the identity matrix. "
      ]
    },
    {
      "cell_type": "markdown",
      "metadata": {
        "id": "h7s6WVCoZNHH"
      },
      "source": [
        "For a matrix to be invertible, it must be a square matrix. The inverse of a $2\\times2$ matrix A is\n",
        "\n",
        "$$A^{-1}=\\begin{bmatrix} a & b \\\\ c & d \\end{bmatrix}^{-1} = \\frac{1}{ad - bc} \\begin{bmatrix} d & -b \\\\ -c & a \\end{bmatrix}$$\n",
        "\n",
        "Not all square matrices are invertible. As can be seen from the formula, if $\\det{(A)} = ad-bc = 0$, the inverse of A does not exist ($1/0$). "
      ]
    },
    {
      "cell_type": "code",
      "metadata": {
        "id": "8ZpuMm8AZNHH",
        "outputId": "cc56932c-bf54-416c-db7a-e52a1b1cabf2"
      },
      "source": [
        "noninvert = np.array([[6, 4], [3, 2]])\n",
        "la.det(noninvert)"
      ],
      "execution_count": null,
      "outputs": [
        {
          "output_type": "execute_result",
          "data": {
            "text/plain": [
              "6.661338147750939e-16"
            ]
          },
          "metadata": {
            "tags": []
          },
          "execution_count": 7
        }
      ]
    },
    {
      "cell_type": "markdown",
      "metadata": {
        "id": "yUfqtN06ZNHI"
      },
      "source": [
        "### Permutation matrices\n",
        "\n",
        "Recall that a permutation matrix is just an identity matrix with its rows reordered. A permutation matrix allows us to swap the rows and columns of a matrix. \n",
        "\n"
      ]
    },
    {
      "cell_type": "markdown",
      "metadata": {
        "id": "3mEioluXZNHI"
      },
      "source": [
        "When multiplied with an identity matrix, a $n\\times n$ square matrix $A$ returns itself: \n",
        "\n",
        "$$AI_n=A$$"
      ]
    },
    {
      "cell_type": "code",
      "metadata": {
        "id": "V1rjpncMZNHI",
        "outputId": "45a4457b-c4fa-4b0e-dfbd-6f86d7dc7382"
      },
      "source": [
        "p = np.array([[1, 0, 0], [0, 1, 0], [0, 0, 1]])\n",
        "p"
      ],
      "execution_count": null,
      "outputs": [
        {
          "output_type": "execute_result",
          "data": {
            "text/plain": [
              "array([[1, 0, 0],\n",
              "       [0, 1, 0],\n",
              "       [0, 0, 1]])"
            ]
          },
          "metadata": {
            "tags": []
          },
          "execution_count": 8
        }
      ]
    },
    {
      "cell_type": "code",
      "metadata": {
        "id": "Ud4OaGAoZNHJ",
        "outputId": "040a0361-1f03-4c5f-b545-9e618f356efc"
      },
      "source": [
        "mat = np.array([[6, 4, 3], [2, 9, 8], [1, 3, 3]])\n",
        "mat"
      ],
      "execution_count": null,
      "outputs": [
        {
          "output_type": "execute_result",
          "data": {
            "text/plain": [
              "array([[6, 4, 3],\n",
              "       [2, 9, 8],\n",
              "       [1, 3, 3]])"
            ]
          },
          "metadata": {
            "tags": []
          },
          "execution_count": 9
        }
      ]
    },
    {
      "cell_type": "code",
      "metadata": {
        "id": "hRXog5ADZNHJ",
        "outputId": "2e013ca3-2bf9-4a91-be34-b7b057b7ee42"
      },
      "source": [
        "p @ mat"
      ],
      "execution_count": null,
      "outputs": [
        {
          "output_type": "execute_result",
          "data": {
            "text/plain": [
              "array([[6, 4, 3],\n",
              "       [2, 9, 8],\n",
              "       [1, 3, 3]])"
            ]
          },
          "metadata": {
            "tags": []
          },
          "execution_count": 10
        }
      ]
    },
    {
      "cell_type": "markdown",
      "metadata": {
        "id": "1N__kDVnZNHK"
      },
      "source": [
        "Note that (left) multiplying any matrix by a permutation matrix rearranges its rows: "
      ]
    },
    {
      "cell_type": "code",
      "metadata": {
        "id": "Mnkrp_NnZNHK",
        "outputId": "087ee581-c64f-4610-cd69-e4f21ed5f957"
      },
      "source": [
        "p1 = np.array([[1, 0, 0], [0, 0, 1], [0, 1, 0]])\n",
        "p1 @ mat"
      ],
      "execution_count": null,
      "outputs": [
        {
          "output_type": "execute_result",
          "data": {
            "text/plain": [
              "array([[6, 4, 3],\n",
              "       [1, 3, 3],\n",
              "       [2, 9, 8]])"
            ]
          },
          "metadata": {
            "tags": []
          },
          "execution_count": 11
        }
      ]
    },
    {
      "cell_type": "markdown",
      "metadata": {
        "id": "fKFq5mgYZNHL"
      },
      "source": [
        "and right multiplication rearranges its *columns*: "
      ]
    },
    {
      "cell_type": "code",
      "metadata": {
        "id": "QHCTAQrlZNHL",
        "outputId": "a6159e59-400b-4c96-dd9a-fddd3599a784"
      },
      "source": [
        "mat @ p1"
      ],
      "execution_count": null,
      "outputs": [
        {
          "output_type": "execute_result",
          "data": {
            "text/plain": [
              "array([[6, 3, 4],\n",
              "       [2, 8, 9],\n",
              "       [1, 3, 3]])"
            ]
          },
          "metadata": {
            "tags": []
          },
          "execution_count": 12
        }
      ]
    },
    {
      "cell_type": "markdown",
      "metadata": {
        "id": "qf-1bNkLZNHM"
      },
      "source": [
        "## Solving systems of linear equations\n",
        "\n",
        "Recall in the slides that we tried to solve the following system of linear equations: \n",
        "\n",
        "$$x_1+5x_2=7$$\n",
        "$$-2x_1-7x_2=-5$$\n",
        "\n",
        "The matrix representation of the above equations are as follows: "
      ]
    },
    {
      "cell_type": "code",
      "metadata": {
        "id": "72XA9nCIZNHM"
      },
      "source": [
        "A = np.array([[1, 5], [-2, -7]])\n",
        "B = np.array([[7, -5]])"
      ],
      "execution_count": null,
      "outputs": []
    },
    {
      "cell_type": "markdown",
      "metadata": {
        "id": "FHpZQIkQZNHN"
      },
      "source": [
        "We can solve this programmatically with `scipy.linalg`: "
      ]
    },
    {
      "cell_type": "code",
      "metadata": {
        "colab": {
          "base_uri": "https://localhost:8080/"
        },
        "id": "q-VVehZ1ZNHN",
        "outputId": "e3beef65-9afc-4c1b-91f2-5969ccf6fe51"
      },
      "source": [
        "la.solve(A,B.T)\n"
      ],
      "execution_count": null,
      "outputs": [
        {
          "output_type": "execute_result",
          "data": {
            "text/plain": [
              "array([[-8.],\n",
              "       [ 3.]])"
            ]
          },
          "metadata": {
            "tags": []
          },
          "execution_count": 31
        }
      ]
    },
    {
      "cell_type": "markdown",
      "metadata": {
        "id": "SBkNsvbBZNHO"
      },
      "source": [
        "Convince yourself that the above values ($x_1 = -8, x_2 = 3$) satisfy the system of linear equations above. "
      ]
    },
    {
      "cell_type": "markdown",
      "metadata": {
        "id": "HBu8BDqWZNHO"
      },
      "source": [
        "### Gaussian elimination\n",
        "\n",
        "In the lectures, we showed how the Gaussian elimination algorithm can be used to solve systems of linear equations. \n",
        "\n",
        "Gaussian elimination involves performing the following **elementary row operations**: \n",
        "1. Add $k$ times row $j$ to row $i$.\n",
        "2. Multiply row $i$ by scalar $k$.\n",
        "\n",
        "The following helper functions are sourced from [patrickwalls/mathematical-python](https://www.math.ubc.ca/~pwalls/math-python/linear-algebra/solving-linear-systems/)"
      ]
    },
    {
      "cell_type": "code",
      "metadata": {
        "id": "t29uF94CZNHO"
      },
      "source": [
        "def add_row(A, multiplier_k, row_j, row_i):\n",
        "    \"Add k times row j to row i in matrix A.\"\n",
        "    n = A.shape[0]\n",
        "    E = np.eye(n)\n",
        "    if row_i == row_j:\n",
        "        E[row_i, row_i] = multiplier_k + 1\n",
        "    else:\n",
        "        E[row_i, row_j] = multiplier_k\n",
        "    return E @ A\n",
        "\n",
        "\n",
        "def scale_row(A, row_i, multiplier_k):\n",
        "    \"Multiply row i by k in matrix A.\"\n",
        "    n = A.shape[0]\n",
        "    E = np.eye(n)\n",
        "    E[row_i, row_i] = multiplier_k\n",
        "    return E @ A"
      ],
      "execution_count": null,
      "outputs": []
    },
    {
      "cell_type": "markdown",
      "metadata": {
        "id": "WhxXzDmJZNHP"
      },
      "source": [
        "First, concatenate the two matrices:"
      ]
    },
    {
      "cell_type": "code",
      "metadata": {
        "id": "qUuP4YB9ZNHP",
        "outputId": "9a9460f0-291d-43eb-9535-7ac954639c81"
      },
      "source": [
        "E = np.concatenate((A, B.T), axis=1)\n",
        "E"
      ],
      "execution_count": null,
      "outputs": [
        {
          "output_type": "execute_result",
          "data": {
            "text/plain": [
              "array([[ 1,  5,  7],\n",
              "       [-2, -7, -5]])"
            ]
          },
          "metadata": {
            "tags": []
          },
          "execution_count": 16
        }
      ]
    },
    {
      "cell_type": "markdown",
      "metadata": {
        "id": "dSQUw6oHZNHP"
      },
      "source": [
        "Remember, the goal is to transform A into an identity matrix. We usually do this by transforming A into an upper triangular matrix (a matrix with 0s below the matrix diagonals) using the elementary operations, *and then* into an identity matrix. \n",
        "\n",
        "Our first operation is to add twice of the first row to the second row. Now, the first element in the second row is 0. "
      ]
    },
    {
      "cell_type": "code",
      "metadata": {
        "id": "TJtXSxe2ZNHQ",
        "outputId": "9483335f-b770-47f1-eba2-f42238d644c6"
      },
      "source": [
        "E1 = add_row(E, 2, 0, 1)\n",
        "E1"
      ],
      "execution_count": null,
      "outputs": [
        {
          "output_type": "execute_result",
          "data": {
            "text/plain": [
              "array([[1., 5., 7.],\n",
              "       [0., 3., 9.]])"
            ]
          },
          "metadata": {
            "tags": []
          },
          "execution_count": 17
        }
      ]
    },
    {
      "cell_type": "markdown",
      "metadata": {
        "id": "po9Gf5BbZNHQ"
      },
      "source": [
        "Now we can scale down row 2 by a factor of 3 ... "
      ]
    },
    {
      "cell_type": "code",
      "metadata": {
        "id": "vFIEEu6GZNHQ",
        "outputId": "e13a33f8-c43d-4aae-88db-6db45041adaf"
      },
      "source": [
        "E2 = scale_row(E1, 1, 1/3)\n",
        "E2"
      ],
      "execution_count": null,
      "outputs": [
        {
          "output_type": "execute_result",
          "data": {
            "text/plain": [
              "array([[1., 5., 7.],\n",
              "       [0., 1., 3.]])"
            ]
          },
          "metadata": {
            "tags": []
          },
          "execution_count": 18
        }
      ]
    },
    {
      "cell_type": "markdown",
      "metadata": {
        "id": "j2RUyiQVZNHR"
      },
      "source": [
        "and subtract five times of row 2 from the first row. \n",
        "\n",
        "Now we have an identity matrix in the first two columns of E3, and the solution in the last column."
      ]
    },
    {
      "cell_type": "code",
      "metadata": {
        "id": "wjO3NDBLZNHR",
        "outputId": "d0532aab-9c5d-4cd5-d82e-8f1f118fa31d"
      },
      "source": [
        "E3 = add_row(E2, -5, 1, 0)\n",
        "E3"
      ],
      "execution_count": null,
      "outputs": [
        {
          "output_type": "execute_result",
          "data": {
            "text/plain": [
              "array([[ 1.,  0., -8.],\n",
              "       [ 0.,  1.,  3.]])"
            ]
          },
          "metadata": {
            "tags": []
          },
          "execution_count": 19
        }
      ]
    },
    {
      "cell_type": "markdown",
      "metadata": {
        "id": "G7r2jjIiZNHR"
      },
      "source": [
        "which is identical to our programmatic solution. "
      ]
    },
    {
      "cell_type": "markdown",
      "metadata": {
        "id": "pcSz173EZNHS"
      },
      "source": [
        "### Permutation matrices and Gaussian elimination\n",
        "\n",
        "Permutation matrices allow us to bypass a limitation of the Gaussian elimination algorithm. \n",
        "\n",
        "Take for example the following system of equations \n",
        "\n",
        "$$2x_2 = 4$$\n",
        "$$3x_1-2x_2=5$$\n",
        "\n",
        "This system of equations clearly has a solution, but let's see how this would be solved under Gaussian elimination. "
      ]
    },
    {
      "cell_type": "code",
      "metadata": {
        "id": "12Xn1_VbZNHS"
      },
      "source": [
        "A = np.array([[0, 2], [3, -2]])\n",
        "B = np.array([[4], [5]])"
      ],
      "execution_count": null,
      "outputs": []
    },
    {
      "cell_type": "code",
      "metadata": {
        "id": "DsdkXy9kZNHS",
        "outputId": "3f1bcba9-09c2-400a-aa10-5905376beac9"
      },
      "source": [
        "E = np.concatenate((A, B), axis=1)\n",
        "E"
      ],
      "execution_count": null,
      "outputs": [
        {
          "output_type": "execute_result",
          "data": {
            "text/plain": [
              "array([[ 0,  2,  4],\n",
              "       [ 3, -2,  5]])"
            ]
          },
          "metadata": {
            "tags": []
          },
          "execution_count": 21
        }
      ]
    },
    {
      "cell_type": "markdown",
      "metadata": {
        "id": "c6SHIxuWZNHT"
      },
      "source": [
        "One way to solve this is to switch the first and second rows. We define a helper function to switch rows: "
      ]
    },
    {
      "cell_type": "code",
      "metadata": {
        "id": "QQgo-NQEZNHT"
      },
      "source": [
        "def switch_rows(A, row_i, row_j):\n",
        "    \"Switch rows i and j in matrix A.\"\n",
        "    n = A.shape[0]\n",
        "    E = np.eye(n)\n",
        "    E[row_i, row_i] = 0\n",
        "    E[row_j, row_j] = 0\n",
        "    E[row_i, row_j] = 1\n",
        "    E[row_j, row_i] = 1\n",
        "    return E @ A"
      ],
      "execution_count": null,
      "outputs": []
    },
    {
      "cell_type": "code",
      "metadata": {
        "id": "6946TH2kZNHT",
        "outputId": "dc8603d4-3404-44e5-c9ea-63c4c9bcc5da"
      },
      "source": [
        "E1 = switch_rows(E, 0, 1)\n",
        "E1"
      ],
      "execution_count": null,
      "outputs": [
        {
          "output_type": "execute_result",
          "data": {
            "text/plain": [
              "array([[ 3., -2.,  5.],\n",
              "       [ 0.,  2.,  4.]])"
            ]
          },
          "metadata": {
            "tags": []
          },
          "execution_count": 23
        }
      ]
    },
    {
      "cell_type": "markdown",
      "metadata": {
        "id": "urEZFjtLZNHU"
      },
      "source": [
        "Now add the two rows together, and scale each of the rows: "
      ]
    },
    {
      "cell_type": "code",
      "metadata": {
        "id": "KJe9z3QaZNHU",
        "outputId": "bb991d37-a460-4d4b-91a4-91d612db87f0"
      },
      "source": [
        "E2 = add_row(E1, 1, 1, 0)\n",
        "E2"
      ],
      "execution_count": null,
      "outputs": [
        {
          "output_type": "execute_result",
          "data": {
            "text/plain": [
              "array([[3., 0., 9.],\n",
              "       [0., 2., 4.]])"
            ]
          },
          "metadata": {
            "tags": []
          },
          "execution_count": 24
        }
      ]
    },
    {
      "cell_type": "code",
      "metadata": {
        "id": "DtenXYrLZNHV",
        "outputId": "6b5e0c4b-d4f4-40c1-9ad5-56c63dd5866b"
      },
      "source": [
        "E3 = scale_row(E2, 0, 1/3)\n",
        "E4 = scale_row(E3, 1, 1/2)\n",
        "E4"
      ],
      "execution_count": null,
      "outputs": [
        {
          "output_type": "execute_result",
          "data": {
            "text/plain": [
              "array([[1., 0., 3.],\n",
              "       [0., 1., 2.]])"
            ]
          },
          "metadata": {
            "tags": []
          },
          "execution_count": 25
        }
      ]
    },
    {
      "cell_type": "markdown",
      "metadata": {
        "id": "Rsd1cXI7ZNHV"
      },
      "source": [
        "## Norms"
      ]
    },
    {
      "cell_type": "code",
      "metadata": {
        "id": "8F5DUbp_ZNHV"
      },
      "source": [
        "A = np.array([0, 0])\n",
        "B = np.array([3, 4])"
      ],
      "execution_count": null,
      "outputs": []
    },
    {
      "cell_type": "markdown",
      "metadata": {
        "id": "zBP4kT92ZNHW"
      },
      "source": [
        "The L1 norm, also known as the Manhattan distance, can be computed using `la.norm`: "
      ]
    },
    {
      "cell_type": "code",
      "metadata": {
        "colab": {
          "base_uri": "https://localhost:8080/"
        },
        "id": "iORrEeTkZNHW",
        "outputId": "dfb9a74d-8e85-4007-8ae3-5f77b243190e"
      },
      "source": [
        "la.norm(B - A, ord=1)"
      ],
      "execution_count": null,
      "outputs": [
        {
          "output_type": "execute_result",
          "data": {
            "text/plain": [
              "7.0"
            ]
          },
          "metadata": {
            "tags": []
          },
          "execution_count": 34
        }
      ]
    },
    {
      "cell_type": "markdown",
      "metadata": {
        "id": "PY2KidxqZNHX"
      },
      "source": [
        "The Manhattan distance is $\\sum_{i=1}^n |x_i-y_i|$.\n",
        "\n",
        "In contrast, the L2 norm, also known as the Euclidean distance, is $\\sqrt{\\sum_{i=1}^n (x_i-y_i)^2}$.     "
      ]
    },
    {
      "cell_type": "code",
      "metadata": {
        "colab": {
          "base_uri": "https://localhost:8080/"
        },
        "id": "Fg91dDOFZNHX",
        "outputId": "fc263eb5-85d1-4e68-c2d8-4843e9efa70c"
      },
      "source": [
        "la.norm(B - A, ord=None)"
      ],
      "execution_count": null,
      "outputs": [
        {
          "output_type": "execute_result",
          "data": {
            "text/plain": [
              "5.0"
            ]
          },
          "metadata": {
            "tags": []
          },
          "execution_count": 35
        }
      ]
    },
    {
      "cell_type": "markdown",
      "metadata": {
        "id": "j8ifS_jsZNHY"
      },
      "source": [
        "## Exercise"
      ]
    },
    {
      "cell_type": "markdown",
      "metadata": {
        "id": "d9B1xY-tZNHZ"
      },
      "source": [
        "$$ XA = B$$\n",
        "\n",
        "Given matrix $A$ and $B$, find matrix $X$. \n"
      ]
    },
    {
      "cell_type": "code",
      "metadata": {
        "colab": {
          "base_uri": "https://localhost:8080/"
        },
        "id": "D27WwDoBZNHZ",
        "outputId": "12c0269d-9d7a-467b-e837-16c135e08a9d"
      },
      "source": [
        "A = np.array([\n",
        "    [2, 5, 6, 1],\n",
        "    [2, 4, 5, 2],\n",
        "    [3, 5, 6, 3],\n",
        "    [6, 4, 2, 7]\n",
        "])\n",
        "B@la.inv(A)"
      ],
      "execution_count": null,
      "outputs": [
        {
          "output_type": "execute_result",
          "data": {
            "text/plain": [
              "array([ -2.66666667,  19.66666667, -13.33333333,   1.33333333])"
            ]
          },
          "metadata": {
            "tags": []
          },
          "execution_count": 38
        }
      ]
    },
    {
      "cell_type": "code",
      "metadata": {
        "id": "IdwPxn-qa15S"
      },
      "source": [
        ""
      ],
      "execution_count": null,
      "outputs": []
    },
    {
      "cell_type": "code",
      "metadata": {
        "colab": {
          "base_uri": "https://localhost:8080/"
        },
        "id": "mGHJxSm8ZNHZ",
        "outputId": "98cd793f-1d23-4c15-884f-8fe3b149279a"
      },
      "source": [
        "B = np.array([2, 4, 5, 6])\n",
        "B"
      ],
      "execution_count": null,
      "outputs": [
        {
          "output_type": "execute_result",
          "data": {
            "text/plain": [
              "array([2, 4, 5, 6])"
            ]
          },
          "metadata": {
            "tags": []
          },
          "execution_count": 36
        }
      ]
    },
    {
      "cell_type": "code",
      "metadata": {
        "id": "qUAaiNXzZNHa",
        "outputId": "432d6844-cba2-4542-dd81-6e6083542ac0"
      },
      "source": [
        "A_inv = la.inv(A)\n",
        "A_inv"
      ],
      "execution_count": null,
      "outputs": [
        {
          "output_type": "execute_result",
          "data": {
            "text/plain": [
              "array([[ 0.33333333, -9.33333333,  7.66666667, -0.66666667],\n",
              "       [ 1.        ,  8.        , -8.        ,  1.        ],\n",
              "       [-0.66666667, -4.33333333,  4.66666667, -0.66666667],\n",
              "       [-0.66666667,  4.66666667, -3.33333333,  0.33333333]])"
            ]
          },
          "metadata": {
            "tags": []
          },
          "execution_count": 31
        }
      ]
    },
    {
      "cell_type": "code",
      "metadata": {
        "id": "L5LQl7MLZNHa",
        "outputId": "d891e841-d2f9-4200-8e18-b5fb8c42e50d"
      },
      "source": [
        "X = np.matmul(B, A_inv)\n",
        "X"
      ],
      "execution_count": null,
      "outputs": [
        {
          "output_type": "execute_result",
          "data": {
            "text/plain": [
              "array([ -2.66666667,  19.66666667, -13.33333333,   1.33333333])"
            ]
          },
          "metadata": {
            "tags": []
          },
          "execution_count": 32
        }
      ]
    },
    {
      "cell_type": "markdown",
      "metadata": {
        "id": "rzyxq5CkZNHa"
      },
      "source": [
        "## References\n",
        "1. https://www.math.utah.edu/~zwick/Classes/Fall2012_2270/Lectures/Lecture7.pdf\n",
        "2. http://www.math.ubc.ca/~pwalls/math-python/\n",
        "3. https://github.com/rasbt/pattern_classification/blob/master/resources/latex_equations.md"
      ]
    }
  ]
}